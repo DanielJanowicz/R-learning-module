{
  "nbformat": 4,
  "nbformat_minor": 0,
  "metadata": {
    "colab": {
      "provenance": []
    },
    "kernelspec": {
      "name": "ir",
      "display_name": "R"
    },
    "language_info": {
      "name": "R"
    }
  },
  "cells": [
    {
      "cell_type": "code",
      "execution_count": 1,
      "metadata": {
        "colab": {
          "base_uri": "https://localhost:8080/",
          "height": 468
        },
        "id": "aZGvpv1iZnf4",
        "outputId": "ce382a24-1bb9-4ae4-b38c-9e67b2ef9220"
      },
      "outputs": [
        {
          "output_type": "display_data",
          "data": {
            "text/plain": [
              "R version 4.2.1 (2022-06-23)\n",
              "Platform: x86_64-pc-linux-gnu (64-bit)\n",
              "Running under: Ubuntu 18.04.6 LTS\n",
              "\n",
              "Matrix products: default\n",
              "BLAS:   /usr/lib/x86_64-linux-gnu/openblas/libblas.so.3\n",
              "LAPACK: /usr/lib/x86_64-linux-gnu/libopenblasp-r0.2.20.so\n",
              "\n",
              "locale:\n",
              " [1] LC_CTYPE=en_US.UTF-8       LC_NUMERIC=C              \n",
              " [3] LC_TIME=en_US.UTF-8        LC_COLLATE=en_US.UTF-8    \n",
              " [5] LC_MONETARY=en_US.UTF-8    LC_MESSAGES=en_US.UTF-8   \n",
              " [7] LC_PAPER=en_US.UTF-8       LC_NAME=C                 \n",
              " [9] LC_ADDRESS=C               LC_TELEPHONE=C            \n",
              "[11] LC_MEASUREMENT=en_US.UTF-8 LC_IDENTIFICATION=C       \n",
              "\n",
              "attached base packages:\n",
              "[1] stats     graphics  grDevices utils     datasets  methods   base     \n",
              "\n",
              "loaded via a namespace (and not attached):\n",
              " [1] fansi_1.0.3     crayon_1.5.2    digest_0.6.29   utf8_1.2.2     \n",
              " [5] IRdisplay_1.1   repr_1.1.4      lifecycle_1.0.3 jsonlite_1.8.2 \n",
              " [9] evaluate_0.17   pillar_1.8.1    rlang_1.0.6     cli_3.4.1      \n",
              "[13] uuid_1.1-0      vctrs_0.4.2     IRkernel_1.3    tools_4.2.1    \n",
              "[17] glue_1.6.2      fastmap_1.1.0   compiler_4.2.1  base64enc_0.1-3\n",
              "[21] pbdZMQ_0.3-8    htmltools_0.5.3"
            ]
          },
          "metadata": {}
        }
      ],
      "source": [
        "sessionInfo()"
      ]
    },
    {
      "cell_type": "code",
      "source": [
        "x <- 12\n",
        "some_numbers <- c(0,1,2,3,4,5,6,7,8,9)\n",
        "some_numbers2 <- c(0:9)\n",
        "\n",
        "some_numbers\n",
        "some_numbers2"
      ],
      "metadata": {
        "colab": {
          "base_uri": "https://localhost:8080/",
          "height": 52
        },
        "id": "DxJVRm0gZ4ig",
        "outputId": "323fa043-ce64-4f51-c72e-cfc814579e3a"
      },
      "execution_count": 3,
      "outputs": [
        {
          "output_type": "display_data",
          "data": {
            "text/html": [
              "<style>\n",
              ".list-inline {list-style: none; margin:0; padding: 0}\n",
              ".list-inline>li {display: inline-block}\n",
              ".list-inline>li:not(:last-child)::after {content: \"\\00b7\"; padding: 0 .5ex}\n",
              "</style>\n",
              "<ol class=list-inline><li>0</li><li>1</li><li>2</li><li>3</li><li>4</li><li>5</li><li>6</li><li>7</li><li>8</li><li>9</li></ol>\n"
            ],
            "text/markdown": "1. 0\n2. 1\n3. 2\n4. 3\n5. 4\n6. 5\n7. 6\n8. 7\n9. 8\n10. 9\n\n\n",
            "text/latex": "\\begin{enumerate*}\n\\item 0\n\\item 1\n\\item 2\n\\item 3\n\\item 4\n\\item 5\n\\item 6\n\\item 7\n\\item 8\n\\item 9\n\\end{enumerate*}\n",
            "text/plain": [
              " [1] 0 1 2 3 4 5 6 7 8 9"
            ]
          },
          "metadata": {}
        },
        {
          "output_type": "display_data",
          "data": {
            "text/html": [
              "<style>\n",
              ".list-inline {list-style: none; margin:0; padding: 0}\n",
              ".list-inline>li {display: inline-block}\n",
              ".list-inline>li:not(:last-child)::after {content: \"\\00b7\"; padding: 0 .5ex}\n",
              "</style>\n",
              "<ol class=list-inline><li>0</li><li>1</li><li>2</li><li>3</li><li>4</li><li>5</li><li>6</li><li>7</li><li>8</li><li>9</li></ol>\n"
            ],
            "text/markdown": "1. 0\n2. 1\n3. 2\n4. 3\n5. 4\n6. 5\n7. 6\n8. 7\n9. 8\n10. 9\n\n\n",
            "text/latex": "\\begin{enumerate*}\n\\item 0\n\\item 1\n\\item 2\n\\item 3\n\\item 4\n\\item 5\n\\item 6\n\\item 7\n\\item 8\n\\item 9\n\\end{enumerate*}\n",
            "text/plain": [
              " [1] 0 1 2 3 4 5 6 7 8 9"
            ]
          },
          "metadata": {}
        }
      ]
    },
    {
      "cell_type": "code",
      "source": [
        "mean(some_numbers)"
      ],
      "metadata": {
        "colab": {
          "base_uri": "https://localhost:8080/",
          "height": 34
        },
        "id": "3eL7x3TOaBrg",
        "outputId": "50509b17-876f-4227-d2fb-39332eb67f91"
      },
      "execution_count": 4,
      "outputs": [
        {
          "output_type": "display_data",
          "data": {
            "text/html": [
              "4.5"
            ],
            "text/markdown": "4.5",
            "text/latex": "4.5",
            "text/plain": [
              "[1] 4.5"
            ]
          },
          "metadata": {}
        }
      ]
    },
    {
      "cell_type": "code",
      "source": [
        "library(tidyverse)\n",
        "library(ggplot2)\n",
        "library(dplyr)\n",
        "library(stats)"
      ],
      "metadata": {
        "id": "4FHjW-ECaEXd"
      },
      "execution_count": 6,
      "outputs": []
    },
    {
      "cell_type": "code",
      "source": [
        "paygap <- read.csv('./data/gender-paygap-2019.csv', header = TRUE)"
      ],
      "metadata": {
        "colab": {
          "base_uri": "https://localhost:8080/",
          "height": 217
        },
        "id": "q8AmJo6daXLa",
        "outputId": "a51131f3-9b14-4ee4-af59-a025cc6fbd7b"
      },
      "execution_count": 7,
      "outputs": [
        {
          "output_type": "stream",
          "name": "stderr",
          "text": [
            "Warning message in file(file, \"rt\"):\n",
            "“cannot open file './data/gender-paygap-2019.csv': No such file or directory”\n"
          ]
        },
        {
          "output_type": "error",
          "ename": "ERROR",
          "evalue": "ignored",
          "traceback": [
            "Error in file(file, \"rt\"): cannot open the connection\nTraceback:\n",
            "1. read.csv(\"./data/gender-paygap-2019.csv\", header = TRUE)",
            "2. read.table(file = file, header = header, sep = sep, quote = quote, \n .     dec = dec, fill = fill, comment.char = comment.char, ...)",
            "3. file(file, \"rt\")"
          ]
        }
      ]
    },
    {
      "cell_type": "markdown",
      "source": [
        "The dataset above was unreachable through the site https://bookdown.org/vaabe/bookdown-demo/getting-started-with-data.html#data-types-in-r"
      ],
      "metadata": {
        "id": "ccPf3gR0ahEi"
      }
    },
    {
      "cell_type": "markdown",
      "source": [
        "The codework for the dataset is posted below:"
      ],
      "metadata": {
        "id": "fkoO_EO06ofF"
      }
    },
    {
      "cell_type": "code",
      "source": [
        "head(paygap, n = 5)\n",
        "\n",
        "colnames(paygap)\n",
        "\n",
        "dim(paygap)"
      ],
      "metadata": {
        "id": "rCNCxVva6xOP"
      },
      "execution_count": null,
      "outputs": []
    },
    {
      "cell_type": "code",
      "source": [
        "class(paygap)\n",
        "\n",
        "class(paygap$DiffMeanHourlyPercent)"
      ],
      "metadata": {
        "id": "0BJSVx-k6_Cx"
      },
      "execution_count": null,
      "outputs": []
    },
    {
      "cell_type": "markdown",
      "source": [
        "Indexing a dataframe"
      ],
      "metadata": {
        "id": "fObXfZ0u7PSX"
      }
    },
    {
      "cell_type": "code",
      "source": [
        "cardiacdata[1,3] \n",
        "\n",
        "cardiacdata[5:7,1:3]"
      ],
      "metadata": {
        "id": "lsG_cf1z7UXg"
      },
      "execution_count": null,
      "outputs": []
    },
    {
      "cell_type": "markdown",
      "source": [
        "Extracing from a dataframe"
      ],
      "metadata": {
        "id": "XvAb1_7Q7gEj"
      }
    },
    {
      "cell_type": "code",
      "source": [
        "temperatures <- cardiacdata$bodytemp"
      ],
      "metadata": {
        "id": "SRg5hsAN7i-g"
      },
      "execution_count": null,
      "outputs": []
    },
    {
      "cell_type": "markdown",
      "source": [
        "Selecting Columns"
      ],
      "metadata": {
        "id": "b1mSgW187jtt"
      }
    },
    {
      "cell_type": "code",
      "source": [
        "heartrates <- select(cardiacdata, gender, heartrate)"
      ],
      "metadata": {
        "id": "hkQUIJIq7lF8"
      },
      "execution_count": null,
      "outputs": []
    },
    {
      "cell_type": "markdown",
      "source": [
        "Renaming columns"
      ],
      "metadata": {
        "id": "xvMO2XDs7msz"
      }
    },
    {
      "cell_type": "code",
      "source": [
        "# rename 'bodytemp' to 'bodytemp_degF'\n",
        "cardiacdata <- rename(cardiacdata, bodytemp_degF = bodytemp)\n",
        "\n",
        "# rename 'heartrate' to 'heartrate_bpm'\n",
        "cardiacdata <- rename(cardiacdata, heartrate_bpm = heartrate)\n",
        "\n",
        "\n",
        "head(cardiacdata) "
      ],
      "metadata": {
        "id": "uZAejcgi7oX1"
      },
      "execution_count": null,
      "outputs": []
    },
    {
      "cell_type": "markdown",
      "source": [
        "Adding/Changing columns"
      ],
      "metadata": {
        "id": "7IX84yih7tdd"
      }
    },
    {
      "cell_type": "code",
      "source": [
        "# add new column with body temperature in degrees celsius\n",
        "cardiacdata <- mutate(cardiacdata, bodytemp_degC = (bodytemp_degF - 32)*(5/9))\n",
        "\n",
        "# change values in gender column to read \"Female\" and \"Male\" instead of 1 and 2\n",
        "cardiacdata <- mutate(cardiacdata, gender = ifelse(gender == 1, 'Female', \n",
        "                                            ifelse(gender == 2, 'Male', NA)))\n",
        "\n",
        "head(cardiacdata)\n"
      ],
      "metadata": {
        "id": "KLHNvgjY7xKB"
      },
      "execution_count": null,
      "outputs": []
    },
    {
      "cell_type": "markdown",
      "source": [
        "Filtering data"
      ],
      "metadata": {
        "id": "gbYnK_dK74YR"
      }
    },
    {
      "cell_type": "code",
      "source": [
        "# filter for data from female subjects only\n",
        "cardiacdata_female <- filter(cardiacdata, gender == 'Female')"
      ],
      "metadata": {
        "id": "nItTHQU-75YV"
      },
      "execution_count": null,
      "outputs": []
    },
    {
      "cell_type": "markdown",
      "source": [
        "Piping"
      ],
      "metadata": {
        "id": "vw0dLz9J77-W"
      }
    },
    {
      "cell_type": "code",
      "source": [
        "f(x)\n",
        "g(x)\n",
        "h(x)"
      ],
      "metadata": {
        "id": "8rj_kQUI8AU0"
      },
      "execution_count": null,
      "outputs": []
    },
    {
      "cell_type": "code",
      "source": [
        "x %>% f() %>% g() %>% h()"
      ],
      "metadata": {
        "id": "GlpT2GNn8Bnb"
      },
      "execution_count": null,
      "outputs": []
    },
    {
      "cell_type": "code",
      "source": [
        "cardiacdata <- cardiacdata %>%\n",
        "  filter(gender == 'Female') %>%\n",
        "  select(-gender) %>%\n",
        "  mutate(bodytemp_Kelvin = bodytemp_degC + 273)"
      ],
      "metadata": {
        "id": "k8beXLOi8CxF"
      },
      "execution_count": null,
      "outputs": []
    },
    {
      "cell_type": "markdown",
      "source": [
        "Aggregating data"
      ],
      "metadata": {
        "id": "MDpM-2Zz8D6V"
      }
    },
    {
      "cell_type": "code",
      "source": [
        "cardiacdata_byGender <- cardiacdata %>%\n",
        "  group_by(gender) %>%                                  # group by 'gender'\n",
        "  summarize(avg_bodytemp_degF = mean(bodytemp_degF),    # aggregate using means\n",
        "            avg_bodytemp_degC = mean(bodytemp_degC), \n",
        "            avg_heartrate_bpm = mean(heartrate_bpm))  "
      ],
      "metadata": {
        "id": "aXvSgugi8FZp"
      },
      "execution_count": null,
      "outputs": []
    },
    {
      "cell_type": "markdown",
      "source": [
        "Handling missing data"
      ],
      "metadata": {
        "id": "MbO-cTIb8HXF"
      }
    },
    {
      "cell_type": "code",
      "source": [
        "some_numbers <- c(4,5,6,7,NA,8)\n",
        "\n",
        "mean(some_numbers)"
      ],
      "metadata": {
        "colab": {
          "base_uri": "https://localhost:8080/",
          "height": 34
        },
        "id": "tIOEY2ie8JeD",
        "outputId": "bc374307-ac09-48bd-8247-d147397fe04a"
      },
      "execution_count": 2,
      "outputs": [
        {
          "output_type": "display_data",
          "data": {
            "text/html": [
              "&lt;NA&gt;"
            ],
            "text/markdown": "&lt;NA&gt;",
            "text/latex": "<NA>",
            "text/plain": [
              "[1] NA"
            ]
          },
          "metadata": {}
        }
      ]
    },
    {
      "cell_type": "code",
      "source": [
        "mean(some_numbers, na.rm = TRUE)"
      ],
      "metadata": {
        "colab": {
          "base_uri": "https://localhost:8080/",
          "height": 34
        },
        "id": "2rn3zIju8NSG",
        "outputId": "eb40f64d-8276-4f15-e0bb-d90022841e58"
      },
      "execution_count": 3,
      "outputs": [
        {
          "output_type": "display_data",
          "data": {
            "text/html": [
              "6"
            ],
            "text/markdown": "6",
            "text/latex": "6",
            "text/plain": [
              "[1] 6"
            ]
          },
          "metadata": {}
        }
      ]
    },
    {
      "cell_type": "markdown",
      "source": [
        "Histograms"
      ],
      "metadata": {
        "id": "T_5VARJI8O3H"
      }
    },
    {
      "cell_type": "code",
      "source": [
        "ggplot(data = cardiacdata, mapping = aes(x = bodytemp_degC)) + \n",
        "  geom_histogram(bins = 20)"
      ],
      "metadata": {
        "id": "Zc_nuVpA8aCO"
      },
      "execution_count": null,
      "outputs": []
    },
    {
      "cell_type": "code",
      "source": [
        "ggplot(data = cardiacdata, mapping = aes(x = bodytemp_degC)) + \n",
        "  geom_histogram(bins = 20, aes(y = ..density..))"
      ],
      "metadata": {
        "id": "_QBnwee78bg1"
      },
      "execution_count": null,
      "outputs": []
    },
    {
      "cell_type": "code",
      "source": [
        "ggplot(data = cardiacdata, mapping = aes(x = bodytemp_degC)) + \n",
        "  geom_histogram(bins = 20, aes(y = ..density..), fill = 'lightblue') +\n",
        "  xlab('body temperature (celsius)') +\n",
        "  ggtitle('distribution of body temperatures') +\n",
        "  theme_light()"
      ],
      "metadata": {
        "id": "etU-cBcz8dDU"
      },
      "execution_count": null,
      "outputs": []
    },
    {
      "cell_type": "markdown",
      "source": [
        "Scatter Plots"
      ],
      "metadata": {
        "id": "d4c2JDUU8dws"
      }
    },
    {
      "cell_type": "code",
      "source": [
        "ggplot(data = cardiacdata, mapping = aes(x = heartrate_bpm, y = bodytemp_degC)) + \n",
        "  geom_point() +\n",
        "  theme_light()"
      ],
      "metadata": {
        "id": "yPWdoA0V8ere"
      },
      "execution_count": null,
      "outputs": []
    },
    {
      "cell_type": "code",
      "source": [
        "ggplot(data = cardiacdata, mapping = aes(x = heartrate_bpm, y = bodytemp_degC, color = gender)) + \n",
        "  geom_point() +\n",
        "  theme_light()"
      ],
      "metadata": {
        "id": "VaHYJnmZ8iad"
      },
      "execution_count": null,
      "outputs": []
    },
    {
      "cell_type": "markdown",
      "source": [
        "Box & Whisker Plots"
      ],
      "metadata": {
        "id": "RV8FFZ7R8jyQ"
      }
    },
    {
      "cell_type": "code",
      "source": [
        "ggplot(data = cardiacdata, mapping = aes(x = gender, y = bodytemp_degC)) +\n",
        "  geom_boxplot() +\n",
        "  xlab('gender') +\n",
        "  ylab('body temperature (celsius)') +\n",
        "  theme_light()"
      ],
      "metadata": {
        "id": "Imb_YDKh8lXx"
      },
      "execution_count": null,
      "outputs": []
    }
  ]
}